{
 "cells": [
  {
   "cell_type": "markdown",
   "id": "cc996b82",
   "metadata": {},
   "source": [
    "#### Brian Ramirez\n",
    "\n",
    "# Sentiment Analysis using Neural Networks\n",
    "\n",
    "## Research Question\n",
    "\n",
    "<p>Can a neural network model be trained to determine whether the sentiment of a user review is positive or negative?</p>\n",
    "\n",
    "## Objectives and Goals\n",
    "\n",
    "The goals of the analysis are as follows:\n",
    "<ul>\n",
    "    <li>Create a neural network model trained on user review data</li>\n",
    "    <li>Use the model to interpret the sentiment of user reviews</li>\n",
    "</ul>\n",
    "\n",
    "## Type of Neural Network to be Used\n",
    "\n",
    "<p>Recurrent Neural Network (RNN) is a neural network that can be used to make predictions on text sequences. According to <em>Toward Data Science</em>, RNNs are useful for \"tasks that involve sequential inputs, such as speech and language\" (Nabi, 2019). RNN will be used since the goal of the analysis involves speech and language in the form of user reviews.</p>\n",
    "\n",
    "## Data Preparation\n",
    "\n",
    "<strong>Import Packages and Libraries</strong>"
   ]
  },
  {
   "cell_type": "code",
   "execution_count": 58,
   "id": "33c8f073",
   "metadata": {},
   "outputs": [],
   "source": [
    "import numpy as np\n",
    "import pandas as pd\n",
    "from pandas import Series, DataFrame\n",
    "import re\n",
    "import contractions\n",
    "from sklearn.metrics import confusion_matrix\n",
    "import seaborn as sns\n",
    "from sklearn.model_selection import train_test_split\n",
    "from sklearn.metrics import accuracy_score\n",
    "from sklearn.feature_extraction.text import CountVectorizer\n",
    "import datetime\n",
    "import emot\n",
    "import pickle\n",
    "from emot.emo_unicode import EMOTICONS_EMO\n",
    "import tensorflow.keras as keras\n",
    "from tensorflow.keras.callbacks import EarlyStopping\n",
    "from tensorflow.keras.preprocessing.text import Tokenizer\n",
    "from tensorflow.keras.preprocessing.sequence import pad_sequences\n",
    "import nltk\n",
    "from nltk.tokenize import word_tokenize\n",
    "from nltk.corpus import stopwords\n",
    "import os\n",
    "import warnings\n",
    "from collections import OrderedDict\n",
    "import matplotlib.pyplot as plt\n",
    "%matplotlib inline\n",
    "\n",
    "os.environ['TF_CPP_MIN_LOG_LEVEL'] = '2'\n",
    "warnings.filterwarnings('ignore')\n",
    "plt.style.use('ggplot')\n",
    "\n",
    "#nltk.download('punkt')\n",
    "#nltk.download('stopwords')\n",
    "#nltk.download('wordnet')\n",
    "#nltk.download('omw-1.4')"
   ]
  },
  {
   "cell_type": "markdown",
   "id": "040e22a3",
   "metadata": {},
   "source": [
    "<strong>Import and Concatenate the Data Sets</strong>"
   ]
  },
  {
   "cell_type": "code",
   "execution_count": 2,
   "id": "14f7dc2d",
   "metadata": {},
   "outputs": [],
   "source": [
    "amzn = pd.read_csv('amazon_cells_labelled.txt', sep = '\\t', header = None, names = ['review', 'rating'])\n",
    "amzn['source'] = 'amazon'\n",
    "\n",
    "imdb = pd.read_csv('imdb_labelled.txt', sep = ' \\t', header = None, names = ['review', 'rating'])\n",
    "imdb['source'] = 'imdb'\n",
    "\n",
    "yelp = pd.read_csv('imdb_labelled.txt', sep = ' \\t', header = None, names = ['review', 'rating'])\n",
    "yelp['source'] = 'yelp'\n",
    "\n",
    "df = pd.concat([amzn, imdb, yelp], ignore_index = True)\n",
    "pd.set_option('display.max_colwidth', 5000)"
   ]
  },
  {
   "cell_type": "markdown",
   "id": "724861ca",
   "metadata": {},
   "source": [
    "<strong>Inspect the Data</strong>\n",
    "<p>Each of the original three data sets contained 1,000 rows, resulting in a combined data set of 3,000 rows.</p>"
   ]
  },
  {
   "cell_type": "code",
   "execution_count": 3,
   "id": "71c1cc9f",
   "metadata": {
    "scrolled": false
   },
   "outputs": [
    {
     "name": "stdout",
     "output_type": "stream",
     "text": [
      "  IMDB Data shape: (1000, 3)\n",
      "  Yelp Data shape: (1000, 3)\n",
      "Amazon Data shape: (1000, 3)\n",
      "Concat Data shape: (3000, 3)\n"
     ]
    }
   ],
   "source": [
    "print('  IMDB Data shape: {}\\n  Yelp Data shape: {}\\nAmazon Data shape: {}\\nConcat Data shape: {}'.format(imdb.shape, yelp.shape, amzn.shape, df.shape))"
   ]
  },
  {
   "cell_type": "code",
   "execution_count": 4,
   "id": "63a45090",
   "metadata": {
    "scrolled": true
   },
   "outputs": [
    {
     "name": "stdout",
     "output_type": "stream",
     "text": [
      "<class 'pandas.core.frame.DataFrame'>\n",
      "RangeIndex: 3000 entries, 0 to 2999\n",
      "Data columns (total 3 columns):\n",
      " #   Column  Non-Null Count  Dtype \n",
      "---  ------  --------------  ----- \n",
      " 0   review  3000 non-null   object\n",
      " 1   rating  3000 non-null   int64 \n",
      " 2   source  3000 non-null   object\n",
      "dtypes: int64(1), object(2)\n",
      "memory usage: 70.4+ KB\n"
     ]
    }
   ],
   "source": [
    "df.info()"
   ]
  },
  {
   "cell_type": "code",
   "execution_count": 5,
   "id": "93f6f03a",
   "metadata": {
    "scrolled": false
   },
   "outputs": [
    {
     "data": {
      "text/html": [
       "<div>\n",
       "<style scoped>\n",
       "    .dataframe tbody tr th:only-of-type {\n",
       "        vertical-align: middle;\n",
       "    }\n",
       "\n",
       "    .dataframe tbody tr th {\n",
       "        vertical-align: top;\n",
       "    }\n",
       "\n",
       "    .dataframe thead th {\n",
       "        text-align: right;\n",
       "    }\n",
       "</style>\n",
       "<table border=\"1\" class=\"dataframe\">\n",
       "  <thead>\n",
       "    <tr style=\"text-align: right;\">\n",
       "      <th></th>\n",
       "      <th>review</th>\n",
       "      <th>rating</th>\n",
       "      <th>source</th>\n",
       "    </tr>\n",
       "  </thead>\n",
       "  <tbody>\n",
       "    <tr>\n",
       "      <th>0</th>\n",
       "      <td>So there is no way for me to plug it in here in the US unless I go by a converter.</td>\n",
       "      <td>0</td>\n",
       "      <td>amazon</td>\n",
       "    </tr>\n",
       "    <tr>\n",
       "      <th>1</th>\n",
       "      <td>Good case, Excellent value.</td>\n",
       "      <td>1</td>\n",
       "      <td>amazon</td>\n",
       "    </tr>\n",
       "    <tr>\n",
       "      <th>2</th>\n",
       "      <td>Great for the jawbone.</td>\n",
       "      <td>1</td>\n",
       "      <td>amazon</td>\n",
       "    </tr>\n",
       "    <tr>\n",
       "      <th>3</th>\n",
       "      <td>Tied to charger for conversations lasting more than 45 minutes.MAJOR PROBLEMS!!</td>\n",
       "      <td>0</td>\n",
       "      <td>amazon</td>\n",
       "    </tr>\n",
       "    <tr>\n",
       "      <th>4</th>\n",
       "      <td>The mic is great.</td>\n",
       "      <td>1</td>\n",
       "      <td>amazon</td>\n",
       "    </tr>\n",
       "  </tbody>\n",
       "</table>\n",
       "</div>"
      ],
      "text/plain": [
       "                                                                               review  \\\n",
       "0  So there is no way for me to plug it in here in the US unless I go by a converter.   \n",
       "1                                                         Good case, Excellent value.   \n",
       "2                                                              Great for the jawbone.   \n",
       "3     Tied to charger for conversations lasting more than 45 minutes.MAJOR PROBLEMS!!   \n",
       "4                                                                   The mic is great.   \n",
       "\n",
       "   rating  source  \n",
       "0       0  amazon  \n",
       "1       1  amazon  \n",
       "2       1  amazon  \n",
       "3       0  amazon  \n",
       "4       1  amazon  "
      ]
     },
     "execution_count": 5,
     "metadata": {},
     "output_type": "execute_result"
    }
   ],
   "source": [
    "df.head()"
   ]
  },
  {
   "cell_type": "code",
   "execution_count": 6,
   "id": "5a5e6527",
   "metadata": {
    "scrolled": true
   },
   "outputs": [
    {
     "name": "stdout",
     "output_type": "stream",
     "text": [
      "Rating Count:\n",
      "0    1500\n",
      "1    1500\n",
      "Name: rating, dtype: int64\n"
     ]
    }
   ],
   "source": [
    "print('Rating Count:\\n{}'.format(df['rating'].value_counts()))"
   ]
  },
  {
   "cell_type": "code",
   "execution_count": 7,
   "id": "37ee7943",
   "metadata": {
    "scrolled": false
   },
   "outputs": [
    {
     "data": {
      "text/plain": [
       "<Axes: title={'center': 'Rating Count'}>"
      ]
     },
     "execution_count": 7,
     "metadata": {},
     "output_type": "execute_result"
    },
    {
     "data": {
      "image/png": "[encoded data removed]",
      "text/plain": [
       "<Figure size 640x480 with 1 Axes>"
      ]
     },
     "metadata": {},
     "output_type": "display_data"
    }
   ],
   "source": [
    "df['rating'].value_counts().sort_index().plot(kind = 'bar', title = 'Rating Count')"
   ]
  },
  {
   "cell_type": "markdown",
   "id": "d8c85ca8",
   "metadata": {},
   "source": [
    "<strong>Check for Missing, NA, or Duplicate Values</strong>"
   ]
  },
  {
   "cell_type": "code",
   "execution_count": 8,
   "id": "2553727a",
   "metadata": {
    "scrolled": false
   },
   "outputs": [
    {
     "data": {
      "text/plain": [
       "review    False\n",
       "rating    False\n",
       "source    False\n",
       "dtype: bool"
      ]
     },
     "execution_count": 8,
     "metadata": {},
     "output_type": "execute_result"
    }
   ],
   "source": [
    "df.isnull().any()"
   ]
  },
  {
   "cell_type": "code",
   "execution_count": 9,
   "id": "604839e8",
   "metadata": {
    "scrolled": false
   },
   "outputs": [
    {
     "data": {
      "text/plain": [
       "review    False\n",
       "rating    False\n",
       "source    False\n",
       "dtype: bool"
      ]
     },
     "execution_count": 9,
     "metadata": {},
     "output_type": "execute_result"
    }
   ],
   "source": [
    "df.isna().any()"
   ]
  },
  {
   "cell_type": "code",
   "execution_count": 10,
   "id": "01f7675c",
   "metadata": {
    "scrolled": true
   },
   "outputs": [
    {
     "data": {
      "text/plain": [
       "True"
      ]
     },
     "execution_count": 10,
     "metadata": {},
     "output_type": "execute_result"
    }
   ],
   "source": [
    "df.duplicated().any()"
   ]
  },
  {
   "cell_type": "code",
   "execution_count": 11,
   "id": "bd70a86b",
   "metadata": {},
   "outputs": [
    {
     "data": {
      "text/plain": [
       "16"
      ]
     },
     "execution_count": 11,
     "metadata": {},
     "output_type": "execute_result"
    }
   ],
   "source": [
    "df.duplicated().sum()"
   ]
  },
  {
   "cell_type": "code",
   "execution_count": 12,
   "id": "cf0a2a1c",
   "metadata": {},
   "outputs": [
    {
     "data": {
      "text/html": [
       "<div>\n",
       "<style scoped>\n",
       "    .dataframe tbody tr th:only-of-type {\n",
       "        vertical-align: middle;\n",
       "    }\n",
       "\n",
       "    .dataframe tbody tr th {\n",
       "        vertical-align: top;\n",
       "    }\n",
       "\n",
       "    .dataframe thead th {\n",
       "        text-align: right;\n",
       "    }\n",
       "</style>\n",
       "<table border=\"1\" class=\"dataframe\">\n",
       "  <thead>\n",
       "    <tr style=\"text-align: right;\">\n",
       "      <th></th>\n",
       "      <th>review</th>\n",
       "      <th>rating</th>\n",
       "      <th>source</th>\n",
       "    </tr>\n",
       "  </thead>\n",
       "  <tbody>\n",
       "    <tr>\n",
       "      <th>0</th>\n",
       "      <td>So there is no way for me to plug it in here in the US unless I go by a converter.</td>\n",
       "      <td>0</td>\n",
       "      <td>amazon</td>\n",
       "    </tr>\n",
       "    <tr>\n",
       "      <th>1</th>\n",
       "      <td>Good case, Excellent value.</td>\n",
       "      <td>1</td>\n",
       "      <td>amazon</td>\n",
       "    </tr>\n",
       "    <tr>\n",
       "      <th>2</th>\n",
       "      <td>Great for the jawbone.</td>\n",
       "      <td>1</td>\n",
       "      <td>amazon</td>\n",
       "    </tr>\n",
       "    <tr>\n",
       "      <th>3</th>\n",
       "      <td>Tied to charger for conversations lasting more than 45 minutes.MAJOR PROBLEMS!!</td>\n",
       "      <td>0</td>\n",
       "      <td>amazon</td>\n",
       "    </tr>\n",
       "    <tr>\n",
       "      <th>4</th>\n",
       "      <td>The mic is great.</td>\n",
       "      <td>1</td>\n",
       "      <td>amazon</td>\n",
       "    </tr>\n",
       "    <tr>\n",
       "      <th>...</th>\n",
       "      <td>...</td>\n",
       "      <td>...</td>\n",
       "      <td>...</td>\n",
       "    </tr>\n",
       "    <tr>\n",
       "      <th>2995</th>\n",
       "      <td>I just got bored watching Jessice Lange take her clothes off!</td>\n",
       "      <td>0</td>\n",
       "      <td>yelp</td>\n",
       "    </tr>\n",
       "    <tr>\n",
       "      <th>2996</th>\n",
       "      <td>Unfortunately, any virtue in this film's production work was lost on a regrettable script.</td>\n",
       "      <td>0</td>\n",
       "      <td>yelp</td>\n",
       "    </tr>\n",
       "    <tr>\n",
       "      <th>2997</th>\n",
       "      <td>In a word, it is embarrassing.</td>\n",
       "      <td>0</td>\n",
       "      <td>yelp</td>\n",
       "    </tr>\n",
       "    <tr>\n",
       "      <th>2998</th>\n",
       "      <td>Exceptionally bad!</td>\n",
       "      <td>0</td>\n",
       "      <td>yelp</td>\n",
       "    </tr>\n",
       "    <tr>\n",
       "      <th>2999</th>\n",
       "      <td>All in all its an insult to one's intelligence and a huge waste of money.</td>\n",
       "      <td>0</td>\n",
       "      <td>yelp</td>\n",
       "    </tr>\n",
       "  </tbody>\n",
       "</table>\n",
       "<p>3000 rows × 3 columns</p>\n",
       "</div>"
      ],
      "text/plain": [
       "                                                                                           review  \\\n",
       "0              So there is no way for me to plug it in here in the US unless I go by a converter.   \n",
       "1                                                                     Good case, Excellent value.   \n",
       "2                                                                          Great for the jawbone.   \n",
       "3                 Tied to charger for conversations lasting more than 45 minutes.MAJOR PROBLEMS!!   \n",
       "4                                                                               The mic is great.   \n",
       "...                                                                                           ...   \n",
       "2995                               I just got bored watching Jessice Lange take her clothes off!    \n",
       "2996  Unfortunately, any virtue in this film's production work was lost on a regrettable script.    \n",
       "2997                                                              In a word, it is embarrassing.    \n",
       "2998                                                                          Exceptionally bad!    \n",
       "2999                   All in all its an insult to one's intelligence and a huge waste of money.    \n",
       "\n",
       "      rating  source  \n",
       "0          0  amazon  \n",
       "1          1  amazon  \n",
       "2          1  amazon  \n",
       "3          0  amazon  \n",
       "4          1  amazon  \n",
       "...      ...     ...  \n",
       "2995       0    yelp  \n",
       "2996       0    yelp  \n",
       "2997       0    yelp  \n",
       "2998       0    yelp  \n",
       "2999       0    yelp  \n",
       "\n",
       "[3000 rows x 3 columns]"
      ]
     },
     "execution_count": 12,
     "metadata": {},
     "output_type": "execute_result"
    }
   ],
   "source": [
    "df.dropna()"
   ]
  },
  {
   "cell_type": "code",
   "execution_count": 13,
   "id": "f53fcb70",
   "metadata": {
    "scrolled": true
   },
   "outputs": [
    {
     "data": {
      "text/plain": [
       "False"
      ]
     },
     "execution_count": 13,
     "metadata": {},
     "output_type": "execute_result"
    }
   ],
   "source": [
    "dup_df = df[df.duplicated(keep = False)]\n",
    "\n",
    "df = df.drop_duplicates()\n",
    "df = df.reset_index()\n",
    "df = df.drop('index', axis = 1)\n",
    "df.duplicated().any()"
   ]
  },
  {
   "cell_type": "markdown",
   "id": "154fc17c",
   "metadata": {},
   "source": [
    "<strong>Data Treatment Results</strong>"
   ]
  },
  {
   "cell_type": "code",
   "execution_count": 14,
   "id": "81c96812",
   "metadata": {
    "scrolled": true
   },
   "outputs": [
    {
     "name": "stdout",
     "output_type": "stream",
     "text": [
      "Data shape after treatment:\n",
      "(2984, 3)\n",
      "\n",
      "Rating count after treatment:\n",
      "0    1495\n",
      "1    1489\n",
      "Name: rating, dtype: int64\n"
     ]
    },
    {
     "data": {
      "text/html": [
       "<div>\n",
       "<style scoped>\n",
       "    .dataframe tbody tr th:only-of-type {\n",
       "        vertical-align: middle;\n",
       "    }\n",
       "\n",
       "    .dataframe tbody tr th {\n",
       "        vertical-align: top;\n",
       "    }\n",
       "\n",
       "    .dataframe thead th {\n",
       "        text-align: right;\n",
       "    }\n",
       "</style>\n",
       "<table border=\"1\" class=\"dataframe\">\n",
       "  <thead>\n",
       "    <tr style=\"text-align: right;\">\n",
       "      <th></th>\n",
       "      <th>review</th>\n",
       "      <th>rating</th>\n",
       "      <th>source</th>\n",
       "    </tr>\n",
       "  </thead>\n",
       "  <tbody>\n",
       "    <tr>\n",
       "      <th>0</th>\n",
       "      <td>So there is no way for me to plug it in here in the US unless I go by a converter.</td>\n",
       "      <td>0</td>\n",
       "      <td>amazon</td>\n",
       "    </tr>\n",
       "    <tr>\n",
       "      <th>1</th>\n",
       "      <td>Good case, Excellent value.</td>\n",
       "      <td>1</td>\n",
       "      <td>amazon</td>\n",
       "    </tr>\n",
       "    <tr>\n",
       "      <th>2</th>\n",
       "      <td>Great for the jawbone.</td>\n",
       "      <td>1</td>\n",
       "      <td>amazon</td>\n",
       "    </tr>\n",
       "    <tr>\n",
       "      <th>3</th>\n",
       "      <td>Tied to charger for conversations lasting more than 45 minutes.MAJOR PROBLEMS!!</td>\n",
       "      <td>0</td>\n",
       "      <td>amazon</td>\n",
       "    </tr>\n",
       "    <tr>\n",
       "      <th>4</th>\n",
       "      <td>The mic is great.</td>\n",
       "      <td>1</td>\n",
       "      <td>amazon</td>\n",
       "    </tr>\n",
       "  </tbody>\n",
       "</table>\n",
       "</div>"
      ],
      "text/plain": [
       "                                                                               review  \\\n",
       "0  So there is no way for me to plug it in here in the US unless I go by a converter.   \n",
       "1                                                         Good case, Excellent value.   \n",
       "2                                                              Great for the jawbone.   \n",
       "3     Tied to charger for conversations lasting more than 45 minutes.MAJOR PROBLEMS!!   \n",
       "4                                                                   The mic is great.   \n",
       "\n",
       "   rating  source  \n",
       "0       0  amazon  \n",
       "1       1  amazon  \n",
       "2       1  amazon  \n",
       "3       0  amazon  \n",
       "4       1  amazon  "
      ]
     },
     "execution_count": 14,
     "metadata": {},
     "output_type": "execute_result"
    }
   ],
   "source": [
    "print('Data shape after treatment:\\n{}'.format(df.shape))\n",
    "print('\\nRating count after treatment:\\n{}'.format(df['rating'].value_counts()))\n",
    "df.head()"
   ]
  },
  {
   "cell_type": "markdown",
   "id": "c6ced437",
   "metadata": {},
   "source": [
    "<strong>Collect Length and Word Count</strong>"
   ]
  },
  {
   "cell_type": "code",
   "execution_count": 15,
   "id": "5c17060f",
   "metadata": {},
   "outputs": [],
   "source": [
    "df['review_length'] = df['review'].str.len()\n",
    "df['word_count'] = df['review'].str.split().str.len()"
   ]
  },
  {
   "cell_type": "code",
   "execution_count": 16,
   "id": "93ee5a0f",
   "metadata": {},
   "outputs": [
    {
     "data": {
      "text/html": [
       "<div>\n",
       "<style scoped>\n",
       "    .dataframe tbody tr th:only-of-type {\n",
       "        vertical-align: middle;\n",
       "    }\n",
       "\n",
       "    .dataframe tbody tr th {\n",
       "        vertical-align: top;\n",
       "    }\n",
       "\n",
       "    .dataframe thead th {\n",
       "        text-align: right;\n",
       "    }\n",
       "</style>\n",
       "<table border=\"1\" class=\"dataframe\">\n",
       "  <thead>\n",
       "    <tr style=\"text-align: right;\">\n",
       "      <th></th>\n",
       "      <th>review</th>\n",
       "      <th>rating</th>\n",
       "      <th>source</th>\n",
       "      <th>review_length</th>\n",
       "      <th>word_count</th>\n",
       "    </tr>\n",
       "  </thead>\n",
       "  <tbody>\n",
       "    <tr>\n",
       "      <th>0</th>\n",
       "      <td>So there is no way for me to plug it in here in the US unless I go by a converter.</td>\n",
       "      <td>0</td>\n",
       "      <td>amazon</td>\n",
       "      <td>82</td>\n",
       "      <td>21</td>\n",
       "    </tr>\n",
       "    <tr>\n",
       "      <th>1</th>\n",
       "      <td>Good case, Excellent value.</td>\n",
       "      <td>1</td>\n",
       "      <td>amazon</td>\n",
       "      <td>27</td>\n",
       "      <td>4</td>\n",
       "    </tr>\n",
       "    <tr>\n",
       "      <th>2</th>\n",
       "      <td>Great for the jawbone.</td>\n",
       "      <td>1</td>\n",
       "      <td>amazon</td>\n",
       "      <td>22</td>\n",
       "      <td>4</td>\n",
       "    </tr>\n",
       "    <tr>\n",
       "      <th>3</th>\n",
       "      <td>Tied to charger for conversations lasting more than 45 minutes.MAJOR PROBLEMS!!</td>\n",
       "      <td>0</td>\n",
       "      <td>amazon</td>\n",
       "      <td>79</td>\n",
       "      <td>11</td>\n",
       "    </tr>\n",
       "    <tr>\n",
       "      <th>4</th>\n",
       "      <td>The mic is great.</td>\n",
       "      <td>1</td>\n",
       "      <td>amazon</td>\n",
       "      <td>17</td>\n",
       "      <td>4</td>\n",
       "    </tr>\n",
       "  </tbody>\n",
       "</table>\n",
       "</div>"
      ],
      "text/plain": [
       "                                                                               review  \\\n",
       "0  So there is no way for me to plug it in here in the US unless I go by a converter.   \n",
       "1                                                         Good case, Excellent value.   \n",
       "2                                                              Great for the jawbone.   \n",
       "3     Tied to charger for conversations lasting more than 45 minutes.MAJOR PROBLEMS!!   \n",
       "4                                                                   The mic is great.   \n",
       "\n",
       "   rating  source  review_length  word_count  \n",
       "0       0  amazon             82          21  \n",
       "1       1  amazon             27           4  \n",
       "2       1  amazon             22           4  \n",
       "3       0  amazon             79          11  \n",
       "4       1  amazon             17           4  "
      ]
     },
     "execution_count": 16,
     "metadata": {},
     "output_type": "execute_result"
    }
   ],
   "source": [
    "df.head()"
   ]
  },
  {
   "cell_type": "markdown",
   "id": "7abe2200",
   "metadata": {},
   "source": [
    "<strong>Create a List of Unique Characters</strong>\n",
    "\n",
    "<p>A list of distinct characters within the data set.</p>"
   ]
  },
  {
   "cell_type": "code",
   "execution_count": 17,
   "id": "521032a1",
   "metadata": {
    "scrolled": true
   },
   "outputs": [],
   "source": [
    "commentary = df['review']\n",
    "list_of_characters = []\n",
    "for comment in commentary:\n",
    "    for character in comment:\n",
    "        if character not in list_of_characters:\n",
    "            list_of_characters.append(character)"
   ]
  },
  {
   "cell_type": "markdown",
   "id": "cd33564f",
   "metadata": {},
   "source": [
    "<strong>Create a List of Unusual Characters</strong>\n",
    "\n",
    "<p>A list of non-alphanumeric characters.</p>"
   ]
  },
  {
   "cell_type": "code",
   "execution_count": 18,
   "id": "4bbf99b6",
   "metadata": {
    "scrolled": true
   },
   "outputs": [],
   "source": [
    "chars = []\n",
    "for character in list_of_characters:\n",
    "    if character not in chars:\n",
    "        chars.append(re.search('[^a-zA-Z0-9s]', character))\n",
    "        \n",
    "unusual_chars = []\n",
    "for char in chars:\n",
    "    if char != None:\n",
    "        unusual_chars.append(char)"
   ]
  },
  {
   "cell_type": "markdown",
   "id": "e220b325",
   "metadata": {},
   "source": [
    "<strong>Check for Emojis</strong>"
   ]
  },
  {
   "cell_type": "code",
   "execution_count": 19,
   "id": "2e9b6d30",
   "metadata": {},
   "outputs": [],
   "source": [
    "emoticon_df = df[df['review'].str.contains(r'(?:[:;]\\S?[\\)\\(])')]\n",
    "emoji_rev_cnt = (len(emoticon_df))"
   ]
  },
  {
   "cell_type": "markdown",
   "id": "3d2b0cb7",
   "metadata": {},
   "source": [
    "<strong>Vectorize</strong>"
   ]
  },
  {
   "cell_type": "code",
   "execution_count": 20,
   "id": "5d4ddb1a",
   "metadata": {},
   "outputs": [],
   "source": [
    "vectorizer = CountVectorizer()\n",
    "\n",
    "matrix = vectorizer.fit_transform(df.review)\n",
    "counts = pd.DataFrame(matrix.toarray(), columns = vectorizer.get_feature_names())"
   ]
  },
  {
   "cell_type": "markdown",
   "id": "f76b2313",
   "metadata": {},
   "source": [
    "<strong>Make a Copy</strong>"
   ]
  },
  {
   "cell_type": "code",
   "execution_count": 21,
   "id": "664a1d78",
   "metadata": {},
   "outputs": [],
   "source": [
    "clean_df = df.copy()"
   ]
  },
  {
   "cell_type": "markdown",
   "id": "f5a6ae26",
   "metadata": {},
   "source": [
    "<strong>Convert Text to Lowercase</strong>"
   ]
  },
  {
   "cell_type": "code",
   "execution_count": 22,
   "id": "4c73dac8",
   "metadata": {},
   "outputs": [],
   "source": [
    "clean_df['review'] = clean_df['review'].str.lower()"
   ]
  },
  {
   "cell_type": "markdown",
   "id": "2f735997",
   "metadata": {},
   "source": [
    "<strong>Remove Contractions</strong>"
   ]
  },
  {
   "cell_type": "code",
   "execution_count": 23,
   "id": "cd285d62",
   "metadata": {},
   "outputs": [],
   "source": [
    "def contraction_replace(text):\n",
    "    return contractions.fix(text)\n",
    "clean_df[\"review\"] = clean_df[\"review\"].apply(lambda x: contraction_replace(x))"
   ]
  },
  {
   "cell_type": "markdown",
   "id": "77540cea",
   "metadata": {},
   "source": [
    "<strong>Replace Emoticons</strong><br>\n",
    "Emoticons should be converted into text before removing non-letter characters. According to <em>Geek Culture,</em> removing emoticons completely will \"lose valuable information\", so the emoticons should be converted to \"preserve the emoji information\" (Mahto, 2021). The smiley face and sad face emojis will be replaced with the words \"smile\" and \"sad\" to preserve the sentiment."
   ]
  },
  {
   "cell_type": "code",
   "execution_count": 24,
   "id": "eee869ab",
   "metadata": {},
   "outputs": [],
   "source": [
    "def convert_smile(text):\n",
    "    smile_convert = re.sub(r\"(?:(\\:\\))|(\\:-\\)|(\\;\\))))\", \" smile \", text)  \n",
    "    return smile_convert\n",
    "\n",
    "clean_df[\"review\"] = clean_df[\"review\"].apply(lambda x: convert_smile(x))"
   ]
  },
  {
   "cell_type": "code",
   "execution_count": 25,
   "id": "830cd60c",
   "metadata": {
    "scrolled": true
   },
   "outputs": [],
   "source": [
    "def convert_sad(text):\n",
    "    sad_convert = re.sub(r\"(?:(\\:\\())\", \" sad \", text)    \n",
    "    return sad_convert\n",
    "\n",
    "clean_df[\"review\"] = clean_df[\"review\"].apply(lambda x: convert_sad(x))"
   ]
  },
  {
   "cell_type": "markdown",
   "id": "26df3385",
   "metadata": {},
   "source": [
    "<strong>Remove Punctuation, Numbers, and Whitespace</strong>"
   ]
  },
  {
   "cell_type": "code",
   "execution_count": 26,
   "id": "9837e068",
   "metadata": {},
   "outputs": [],
   "source": [
    "clean_df['review'] = clean_df['review'].apply(lambda x: re.sub(r'[^a-z\\s]+', \" \", x))\n",
    "clean_df['review'] = clean_df['review'].apply(lambda x: re.sub(r'[\\x85]+', \" \", x))\n",
    "clean_df['review'] = clean_df['review'].str.replace('\\d', '', regex = True)\n",
    "clean_df['review'] = clean_df['review'].str.strip()"
   ]
  },
  {
   "cell_type": "markdown",
   "id": "d39e986e",
   "metadata": {},
   "source": [
    "<strong>Remove Stopwords and Lemmatize</strong>"
   ]
  },
  {
   "cell_type": "code",
   "execution_count": 27,
   "id": "528ee8a2",
   "metadata": {},
   "outputs": [],
   "source": [
    "review_list = []\n",
    "review_length = []\n",
    "\n",
    "stop_words = stopwords.words('english')\n",
    "\n",
    "for review in clean_df.review:\n",
    "    review = re.sub(\"[^a-zA-Z\\s]\", \"\", review)\n",
    "    review = review.lower()\n",
    "    review = nltk.word_tokenize(review)\n",
    "    review = [word for word in review if not word in stop_words]\n",
    "    lemma = nltk.WordNetLemmatizer()\n",
    "    review = [lemma.lemmatize(word) for word in review]\n",
    "    rev_len = len(review)\n",
    "    review_length.append(rev_len)\n",
    "    review_list.append(review)\n",
    "\n",
    "review_list = np.asarray(review_list, dtype = object)"
   ]
  },
  {
   "cell_type": "code",
   "execution_count": 28,
   "id": "faa2e400",
   "metadata": {},
   "outputs": [],
   "source": [
    "clean_commentary = clean_df['review']\n",
    "clean_list_of_characters = []\n",
    "for comment in clean_commentary:\n",
    "    for character in comment:\n",
    "        if character not in clean_list_of_characters:\n",
    "            clean_list_of_characters.append(character)"
   ]
  },
  {
   "cell_type": "markdown",
   "id": "4200967a",
   "metadata": {},
   "source": [
    "<strong>Remove Duplicate Words</strong>"
   ]
  },
  {
   "cell_type": "code",
   "execution_count": 29,
   "id": "ef87350a",
   "metadata": {},
   "outputs": [],
   "source": [
    "# Reference: StackOverflow\n",
    "#            Python DataFrame: Remove Duplicate Words in the Same Cell within a Column in Python\n",
    "\n",
    "clean_df['review'] = (clean_df['review'].str.split().apply(lambda x: OrderedDict.fromkeys(x).keys()).str.join(' '))"
   ]
  },
  {
   "cell_type": "markdown",
   "id": "f29486d7",
   "metadata": {},
   "source": [
    "<strong>Remove Words with a Single Occurrence</strong>"
   ]
  },
  {
   "cell_type": "code",
   "execution_count": 30,
   "id": "080ee31b",
   "metadata": {},
   "outputs": [],
   "source": [
    "def infreq(text):\n",
    "    freq = pd.Series(' '.join(clean_df['review']).split()).value_counts()\n",
    "    less_freq = list(freq[freq ==1].index)\n",
    "    words = [word for word in text.split() if word not in less_freq]\n",
    "    new_text = \" \".join(words)\n",
    "    return new_text\n",
    "\n",
    "clean_df['review'] = clean_df['review'].apply(lambda x: infreq(x))      "
   ]
  },
  {
   "cell_type": "code",
   "execution_count": 31,
   "id": "0d887902",
   "metadata": {
    "scrolled": true
   },
   "outputs": [],
   "source": [
    "clean_df = clean_df.drop(columns = ['review_length', 'word_count'], axis = 1)\n",
    "clean_df[\"review_length\"] = clean_df['review'].str.len()\n",
    "clean_df[\"word_count\"] = clean_df[\"review\"].str.split().str.len()"
   ]
  },
  {
   "cell_type": "markdown",
   "id": "f5402920",
   "metadata": {},
   "source": [
    "<strong>Vectorize</strong>"
   ]
  },
  {
   "cell_type": "code",
   "execution_count": 32,
   "id": "3540ceda",
   "metadata": {},
   "outputs": [],
   "source": [
    "vectorizer = CountVectorizer()\n",
    "clean_matrix = vectorizer.fit_transform(clean_df.review)\n",
    "clean_counts = pd.DataFrame(clean_matrix.toarray(), columns = vectorizer.get_feature_names())"
   ]
  },
  {
   "cell_type": "markdown",
   "id": "0a8eda95",
   "metadata": {},
   "source": [
    "<strong>Tokenize and Pad</strong>"
   ]
  },
  {
   "cell_type": "code",
   "execution_count": 33,
   "id": "f2ba9192",
   "metadata": {},
   "outputs": [],
   "source": [
    "words_count = len(clean_counts.columns)\n",
    "\n",
    "review = clean_df.review.values\n",
    "tokenizer = Tokenizer(num_words = words_count)\n",
    "tokenizer.fit_on_texts(review)\n",
    "\n",
    "vocab_size = (len(tokenizer.word_index) + 1)\n",
    "max_sequence_embedding = int(round(np.sqrt(np.sqrt(vocab_size)), 0))\n",
    "encoded_docs = tokenizer.texts_to_sequences(review)\n",
    "max_length = clean_df.word_count.max()\n",
    "padded_sequence = pad_sequences(encoded_docs, max_length, padding = 'pre', truncating = 'pre')"
   ]
  },
  {
   "cell_type": "markdown",
   "id": "7a75d0c9",
   "metadata": {},
   "source": [
    "<strong>Split into Training and Test Sets</strong>"
   ]
  },
  {
   "cell_type": "code",
   "execution_count": 34,
   "id": "cf949776",
   "metadata": {},
   "outputs": [],
   "source": [
    "X_train, X_test, y_train, y_test = train_test_split(padded_sequence, np.array(df.rating), test_size = 0.2, random_state = 42)"
   ]
  },
  {
   "cell_type": "markdown",
   "id": "d90090f5",
   "metadata": {},
   "source": [
    "## Data Cleaning Summary\n",
    "\n",
    "<strong>Unique Characters Before Data Cleaning</strong><br>\n",
    "<p>The original dataset contained duplicate characters, non-alphanumeric characters, and punctuation marks.</p>"
   ]
  },
  {
   "cell_type": "code",
   "execution_count": 35,
   "id": "ba2f071f",
   "metadata": {
    "scrolled": true
   },
   "outputs": [
    {
     "name": "stdout",
     "output_type": "stream",
     "text": [
      "Unique character count: 88\n",
      "['S', 'o', ' ', 't', 'h', 'e', 'r', 'i', 's', 'n', 'w', 'a', 'y', 'f', 'm', 'p', 'l', 'u', 'g', 'U', 'I', 'b', 'c', 'v', '.', 'G', 'd', ',', 'E', 'x', 'j', 'T', '4', '5', 'M', 'A', 'J', 'O', 'R', 'P', 'B', 'L', '!', 'z', 'N', 'W', 'q', 'H', '+', 'V', '\"', 'Y', 'D', 'F', 'k', \"'\", 'K', 'C', '/', '7', '3', '6', '8', '0', '2', '?', 'Z', '-', '1', ':', ')', '(', 'Q', '&', '$', '*', ';', 'X', '%', '9', '#', '[', ']', '\\x96', 'é', '\\x85', 'å', '\\x97']\n"
     ]
    }
   ],
   "source": [
    "print('Unique character count: {}\\n{}'.format(len(list_of_characters), list_of_characters))"
   ]
  },
  {
   "cell_type": "markdown",
   "id": "a23369a2",
   "metadata": {},
   "source": [
    "<strong>Non alpha-numeric characters</strong><br>\n",
    "<p>The original dataset contains the following non alpha-numeric characters:</p>"
   ]
  },
  {
   "cell_type": "code",
   "execution_count": 37,
   "id": "a3a9fec0",
   "metadata": {
    "scrolled": false
   },
   "outputs": [
    {
     "name": "stdout",
     "output_type": "stream",
     "text": [
      "Non alpha-numeric character count: 26\n",
      "<re.Match object; span=(0, 1), match=' '>\n",
      "<re.Match object; span=(0, 1), match='.'>\n",
      "<re.Match object; span=(0, 1), match=','>\n",
      "<re.Match object; span=(0, 1), match='!'>\n",
      "<re.Match object; span=(0, 1), match='+'>\n",
      "<re.Match object; span=(0, 1), match='\"'>\n",
      "<re.Match object; span=(0, 1), match=\"'\">\n",
      "<re.Match object; span=(0, 1), match='/'>\n",
      "<re.Match object; span=(0, 1), match='?'>\n",
      "<re.Match object; span=(0, 1), match='-'>\n",
      "<re.Match object; span=(0, 1), match=':'>\n",
      "<re.Match object; span=(0, 1), match=')'>\n",
      "<re.Match object; span=(0, 1), match='('>\n",
      "<re.Match object; span=(0, 1), match='&'>\n",
      "<re.Match object; span=(0, 1), match='$'>\n",
      "<re.Match object; span=(0, 1), match='*'>\n",
      "<re.Match object; span=(0, 1), match=';'>\n",
      "<re.Match object; span=(0, 1), match='%'>\n",
      "<re.Match object; span=(0, 1), match='#'>\n",
      "<re.Match object; span=(0, 1), match='['>\n",
      "<re.Match object; span=(0, 1), match=']'>\n",
      "<re.Match object; span=(0, 1), match='\\x96'>\n",
      "<re.Match object; span=(0, 1), match='é'>\n",
      "<re.Match object; span=(0, 1), match='\\x85'>\n",
      "<re.Match object; span=(0, 1), match='å'>\n",
      "<re.Match object; span=(0, 1), match='\\x97'>\n"
     ]
    }
   ],
   "source": [
    "print('Non alpha-numeric character count: {}'.format(len(unusual_chars)))        \n",
    "for i in unusual_chars:\n",
    "    print(i)"
   ]
  },
  {
   "cell_type": "markdown",
   "id": "df0991ad",
   "metadata": {},
   "source": [
    "<p>Non-alphanumeric characters were removed from the clean data set.</p>"
   ]
  },
  {
   "cell_type": "markdown",
   "id": "93bf53df",
   "metadata": {},
   "source": [
    "<strong>Unique Characters After Data Cleaning</strong>\n",
    "\n",
    "Converting the text to lower case and removing non-alphanumeric characters and punctuation marks resulted in the following unique characters:"
   ]
  },
  {
   "cell_type": "code",
   "execution_count": 36,
   "id": "af0a4f6b",
   "metadata": {},
   "outputs": [
    {
     "name": "stdout",
     "output_type": "stream",
     "text": [
      "Clean character count: 27\n",
      "['s', 'o', ' ', 't', 'h', 'e', 'r', 'i', 'n', 'w', 'a', 'y', 'f', 'm', 'p', 'l', 'u', 'g', 'b', 'c', 'v', 'd', 'x', 'j', 'z', 'q', 'k']\n"
     ]
    }
   ],
   "source": [
    "print('Clean character count: {}\\n{}'.format(len(clean_list_of_characters), clean_list_of_characters))"
   ]
  },
  {
   "cell_type": "markdown",
   "id": "cb3fd30e",
   "metadata": {},
   "source": [
    "<strong>Emojis</strong><br>\n",
    "<p>The original data set contains the following emoticons:</p>"
   ]
  },
  {
   "cell_type": "code",
   "execution_count": 38,
   "id": "d204d4f7",
   "metadata": {
    "scrolled": false
   },
   "outputs": [
    {
     "name": "stdout",
     "output_type": "stream",
     "text": [
      "Reviews with Emojis: 8\n"
     ]
    },
    {
     "data": {
      "text/html": [
       "<div>\n",
       "<style scoped>\n",
       "    .dataframe tbody tr th:only-of-type {\n",
       "        vertical-align: middle;\n",
       "    }\n",
       "\n",
       "    .dataframe tbody tr th {\n",
       "        vertical-align: top;\n",
       "    }\n",
       "\n",
       "    .dataframe thead th {\n",
       "        text-align: right;\n",
       "    }\n",
       "</style>\n",
       "<table border=\"1\" class=\"dataframe\">\n",
       "  <thead>\n",
       "    <tr style=\"text-align: right;\">\n",
       "      <th></th>\n",
       "      <th>review</th>\n",
       "      <th>rating</th>\n",
       "      <th>source</th>\n",
       "      <th>review_length</th>\n",
       "      <th>word_count</th>\n",
       "    </tr>\n",
       "  </thead>\n",
       "  <tbody>\n",
       "    <tr>\n",
       "      <th>386</th>\n",
       "      <td>The best phone in market :).</td>\n",
       "      <td>1</td>\n",
       "      <td>amazon</td>\n",
       "      <td>28</td>\n",
       "      <td>6</td>\n",
       "    </tr>\n",
       "    <tr>\n",
       "      <th>967</th>\n",
       "      <td>:-)Oh, the charger seems to work fine.</td>\n",
       "      <td>1</td>\n",
       "      <td>amazon</td>\n",
       "      <td>38</td>\n",
       "      <td>7</td>\n",
       "    </tr>\n",
       "    <tr>\n",
       "      <th>1366</th>\n",
       "      <td>I really loved the story line and the poler bear was kinda cute.But if anyone has a question about Fort Steele, just ask away:)</td>\n",
       "      <td>1</td>\n",
       "      <td>imdb</td>\n",
       "      <td>128</td>\n",
       "      <td>24</td>\n",
       "    </tr>\n",
       "    <tr>\n",
       "      <th>1973</th>\n",
       "      <td>;) Recommend with confidence!</td>\n",
       "      <td>1</td>\n",
       "      <td>imdb</td>\n",
       "      <td>30</td>\n",
       "      <td>4</td>\n",
       "    </tr>\n",
       "    <tr>\n",
       "      <th>1976</th>\n",
       "      <td>:) Anyway, the plot flowed smoothly and the male-bonding scenes were a hoot.</td>\n",
       "      <td>1</td>\n",
       "      <td>imdb</td>\n",
       "      <td>77</td>\n",
       "      <td>13</td>\n",
       "    </tr>\n",
       "    <tr>\n",
       "      <th>2363</th>\n",
       "      <td>I really loved the story line and the poler bear was kinda cute.But if anyone has a question about Fort Steele, just ask away:)</td>\n",
       "      <td>1</td>\n",
       "      <td>yelp</td>\n",
       "      <td>128</td>\n",
       "      <td>24</td>\n",
       "    </tr>\n",
       "    <tr>\n",
       "      <th>2970</th>\n",
       "      <td>;) Recommend with confidence!</td>\n",
       "      <td>1</td>\n",
       "      <td>yelp</td>\n",
       "      <td>30</td>\n",
       "      <td>4</td>\n",
       "    </tr>\n",
       "    <tr>\n",
       "      <th>2973</th>\n",
       "      <td>:) Anyway, the plot flowed smoothly and the male-bonding scenes were a hoot.</td>\n",
       "      <td>1</td>\n",
       "      <td>yelp</td>\n",
       "      <td>77</td>\n",
       "      <td>13</td>\n",
       "    </tr>\n",
       "  </tbody>\n",
       "</table>\n",
       "</div>"
      ],
      "text/plain": [
       "                                                                                                                                review  \\\n",
       "386                                                                                                       The best phone in market :).   \n",
       "967                                                                                             :-)Oh, the charger seems to work fine.   \n",
       "1366  I really loved the story line and the poler bear was kinda cute.But if anyone has a question about Fort Steele, just ask away:)    \n",
       "1973                                                                                                    ;) Recommend with confidence!    \n",
       "1976                                                     :) Anyway, the plot flowed smoothly and the male-bonding scenes were a hoot.    \n",
       "2363  I really loved the story line and the poler bear was kinda cute.But if anyone has a question about Fort Steele, just ask away:)    \n",
       "2970                                                                                                    ;) Recommend with confidence!    \n",
       "2973                                                     :) Anyway, the plot flowed smoothly and the male-bonding scenes were a hoot.    \n",
       "\n",
       "      rating  source  review_length  word_count  \n",
       "386        1  amazon             28           6  \n",
       "967        1  amazon             38           7  \n",
       "1366       1    imdb            128          24  \n",
       "1973       1    imdb             30           4  \n",
       "1976       1    imdb             77          13  \n",
       "2363       1    yelp            128          24  \n",
       "2970       1    yelp             30           4  \n",
       "2973       1    yelp             77          13  "
      ]
     },
     "execution_count": 38,
     "metadata": {},
     "output_type": "execute_result"
    }
   ],
   "source": [
    "print('Reviews with Emojis: {}'.format(emoji_rev_cnt))\n",
    "emoticon_df"
   ]
  },
  {
   "cell_type": "markdown",
   "id": "5d01c54f",
   "metadata": {},
   "source": [
    "<p>The emoticons were replaced with text values in the cleaned data set:</p>"
   ]
  },
  {
   "cell_type": "code",
   "execution_count": 39,
   "id": "cce86355",
   "metadata": {},
   "outputs": [
    {
     "name": "stdout",
     "output_type": "stream",
     "text": [
      "Original: \n",
      "The best phone in market :).\n",
      "\n",
      "Emoticon Replaced:\n",
      "the best phone in market smile\n"
     ]
    }
   ],
   "source": [
    "print('Original: \\n{}'.format(emoticon_df['review'].iloc[0]))\n",
    "print('\\nEmoticon Replaced:\\n{}'.format(clean_df['review'].iloc[386]))"
   ]
  },
  {
   "cell_type": "markdown",
   "id": "b4633334",
   "metadata": {},
   "source": [
    "### Vocabulary Size"
   ]
  },
  {
   "cell_type": "code",
   "execution_count": 40,
   "id": "903e99a0",
   "metadata": {},
   "outputs": [
    {
     "name": "stdout",
     "output_type": "stream",
     "text": [
      "Vocab Size: 3281\n"
     ]
    }
   ],
   "source": [
    "print('Vocab Size: {}'.format(vocab_size))"
   ]
  },
  {
   "cell_type": "markdown",
   "id": "886e30e5",
   "metadata": {},
   "source": [
    "###  Proposed Word Embedding Length"
   ]
  },
  {
   "cell_type": "code",
   "execution_count": 42,
   "id": "c83f0030",
   "metadata": {},
   "outputs": [
    {
     "name": "stdout",
     "output_type": "stream",
     "text": [
      "Word Embedding Length: 8\n"
     ]
    }
   ],
   "source": [
    "print('Word Embedding Length: {}'.format(max_sequence_embedding))"
   ]
  },
  {
   "cell_type": "markdown",
   "id": "7e011d3e",
   "metadata": {},
   "source": [
    "### Statistical Justification for the Chosen Maximum Sequence Length\n",
    "<p>The maximum sequence length is set to the amount of words in the review with the most words.<br>The equation can be seen above in the section titled <em>Collect length and word count.</em><br>\n",
    "The result of the equation is listed below:</p>"
   ]
  },
  {
   "cell_type": "code",
   "execution_count": 43,
   "id": "dd1a1f7c",
   "metadata": {
    "scrolled": true
   },
   "outputs": [
    {
     "name": "stdout",
     "output_type": "stream",
     "text": [
      "Maximum sequence length: 57\n"
     ]
    }
   ],
   "source": [
    "print('Maximum sequence length: {}'.format(max_length))"
   ]
  },
  {
   "cell_type": "markdown",
   "id": "a4e9b37e",
   "metadata": {},
   "source": [
    "### Goals of the Tokenization Process\n",
    "\n",
    "<p>The tokenization process and code generation is shown above in the section titled <em>Tokenization.</em><br>\n",
    "The goal of tokenization is to convert each word into a numeric value that can be understood by the computer during the analysis.</p>\n",
    "    <p>Keras includes a package called <em>Tokenizer</em> to tokenize the data.<br>\n",
    "    The package can be seen in the <em>imports</em> section above as:<br> <em>from tensorflow.keras.preprocessing.text import Tokenizer</em>.</p>"
   ]
  },
  {
   "cell_type": "markdown",
   "id": "36a96825",
   "metadata": {},
   "source": [
    "### Padding Process\n",
    "\n",
    "<p>The Keras library includes a method called \"pad_sequence\". The method import can be seen in the <em>imports</em> section above as:<br> <em>from tensorflow.keras.preprocessing.sequence import pad_sequences.</em><br>The method takes in a parameter for the maximum sequence length, then pads each sequence with 0s to meet that length. The maximum length should be set to the length of the longest sequence in the data set.</p>\n",
    "\n",
    "<p>The <em>pad_sequence</em> method allows padding to be added to the beginning or end of the text sequence. <br>\n",
    "The padding will be added at the beginning of each sequence for this analysis.</p>\n"
   ]
  },
  {
   "cell_type": "code",
   "execution_count": 44,
   "id": "abce1b6b",
   "metadata": {},
   "outputs": [
    {
     "name": "stdout",
     "output_type": "stream",
     "text": [
      "Padded Sequence: [  0   0   0   0   0   0   0   0   0   0   0   0   0   0   0   0   0   0\n",
      "   0   0   0   0   0   0   0   0   0   0   0   0   0   0   0   0   0   0\n",
      "   0   0  29  38   2  57 104  16  79   9 358   5  11 143   1 332 838   6\n",
      " 152  50   4]\n"
     ]
    }
   ],
   "source": [
    "print('Padded Sequence: {}'.format(padded_sequence[0]))   "
   ]
  },
  {
   "cell_type": "markdown",
   "id": "3411cd53",
   "metadata": {},
   "source": [
    "###  Categories of Sentiment and Activation Function\n",
    "\n",
    "<p>The data set has a numeric column named \"rating\" which refers to the sentiment. <br>The each row in the column contains either a 0 or a 1. A 0 value is a negative sentiment, while a 1 value is a positive sentiment.<br>\n",
    "Two categories of sentiment will be included to match the data set.</p>\n",
    "<p>The chosen activation function is the Sigmoid Function.<br>\n",
    "The Sigmoid Function returns a binary value of either 0 or 1, which matches up with the binary values in the rating column.</p>"
   ]
  },
  {
   "cell_type": "markdown",
   "id": "d86e0895",
   "metadata": {},
   "source": [
    "### Data Preparation Steps\n",
    "\n",
    "<p>Preparation of the data included the following steps:</p>\n",
    "<ul>\n",
    "    <li>Load the three CSV files into their own data frames.</li>\n",
    "    <li>Concatenate the three data frames into one.</li>\n",
    "    <li>Explore the data set.</li>\n",
    "    <li>Treat any null, duplicate, or na values.</li>\n",
    "    <li>Check for unusual characters.</li>\n",
    "    <li>Check for emojis.</li>\n",
    "    <li>Change the review column to all lowercase.</li>\n",
    "    <li>Remove punctuation.</li>\n",
    "    <li>Remove stopwords and lemmatize.</li>\n",
    "    <li>Tokenize.</li>\n",
    "    <li>Pad the sequences to equal lengths.</li>\n",
    "</ul>\n",
    "\n",
    "<p>The data was then split into an 80% training set and a 20% test set.<br>\n",
    "The results of the split can be seen below:</p>"
   ]
  },
  {
   "cell_type": "code",
   "execution_count": 45,
   "id": "9339b242",
   "metadata": {
    "scrolled": true
   },
   "outputs": [
    {
     "name": "stdout",
     "output_type": "stream",
     "text": [
      "Training Shape:\n",
      " (2387, 57) , (2387,)\n",
      "Test Shape:\n",
      " (597, 57) , (597,)\n"
     ]
    }
   ],
   "source": [
    "print('Training Shape:\\n {} , {}\\nTest Shape:\\n {} , {}'.format(X_train.shape, y_train.shape, X_test.shape, y_test.shape))"
   ]
  },
  {
   "cell_type": "markdown",
   "id": "af7f23b6",
   "metadata": {},
   "source": [
    "### Clean Copy of the Data Set"
   ]
  },
  {
   "cell_type": "code",
   "execution_count": 46,
   "id": "f5ca9cb1",
   "metadata": {},
   "outputs": [],
   "source": [
    "# Training set copy\n",
    "pd.DataFrame(X_train).to_csv('X_train.csv')\n",
    "pd.DataFrame(y_train).to_csv('y_train.csv')\n",
    "\n",
    "# Test set copy\n",
    "pd.DataFrame(X_test).to_csv('X_test.csv')\n",
    "pd.DataFrame(y_test).to_csv('y_test.csv')\n",
    "\n",
    "# Clean DataFrame copy\n",
    "clean_df.to_csv('clean_df.csv')"
   ]
  },
  {
   "cell_type": "markdown",
   "id": "5c709260",
   "metadata": {},
   "source": [
    "## Network Architecture\n",
    "\n",
    "### Output of the Model Summary from TensorFlow"
   ]
  },
  {
   "cell_type": "code",
   "execution_count": 50,
   "id": "e7b186c9",
   "metadata": {},
   "outputs": [
    {
     "name": "stdout",
     "output_type": "stream",
     "text": [
      "3281\n",
      "8\n",
      "57\n"
     ]
    }
   ],
   "source": [
    "print(vocab_size)\n",
    "print(max_sequence_embedding)\n",
    "print(max_length)"
   ]
  },
  {
   "cell_type": "code",
   "execution_count": 52,
   "id": "e2bb16ef",
   "metadata": {},
   "outputs": [
    {
     "name": "stdout",
     "output_type": "stream",
     "text": [
      "Model: \"sequential\"\n",
      "_________________________________________________________________\n",
      " Layer (type)                Output Shape              Param #   \n",
      "=================================================================\n",
      " embedding (Embedding)       (None, 57, 8)             26248     \n",
      "                                                                 \n",
      " global_average_pooling1d (G  (None, 8)                0         \n",
      " lobalAveragePooling1D)                                          \n",
      "                                                                 \n",
      " dense (Dense)               (None, 50)                450       \n",
      "                                                                 \n",
      " dense_1 (Dense)             (None, 1)                 51        \n",
      "                                                                 \n",
      "=================================================================\n",
      "Total params: 26,749\n",
      "Trainable params: 26,749\n",
      "Non-trainable params: 0\n",
      "_________________________________________________________________\n"
     ]
    }
   ],
   "source": [
    "keras.backend.clear_session()\n",
    "num_epochs = 25\n",
    "early_stop = EarlyStopping(monitor = 'val_loss', patience =  3)\n",
    "\n",
    "model = keras.Sequential([\n",
    "   keras.layers.Embedding(vocab_size, max_sequence_embedding, input_length = max_length)\n",
    "    ,keras.layers.GlobalAveragePooling1D()\n",
    "    ,keras.layers.Dense(50, activation=\"relu\")\n",
    "    ,keras.layers.Dense(1, activation=\"sigmoid\")\n",
    "])\n",
    "\n",
    "model.compile(loss = 'BinaryCrossentropy'\n",
    "              ,optimizer = 'adam'\n",
    "              ,metrics = ['accuracy'])\n",
    "\n",
    "model.summary()"
   ]
  },
  {
   "cell_type": "code",
   "execution_count": 53,
   "id": "8d499a13",
   "metadata": {
    "scrolled": false
   },
   "outputs": [
    {
     "name": "stdout",
     "output_type": "stream",
     "text": [
      "Epoch 1/25\n",
      "75/75 [==============================] - 1s 3ms/step - loss: 0.6927 - accuracy: 0.5233 - val_loss: 0.6920 - val_accuracy: 0.4824\n",
      "Epoch 2/25\n",
      "75/75 [==============================] - 0s 2ms/step - loss: 0.6866 - accuracy: 0.5568 - val_loss: 0.6809 - val_accuracy: 0.8023\n",
      "Epoch 3/25\n",
      "75/75 [==============================] - 0s 2ms/step - loss: 0.6611 - accuracy: 0.8027 - val_loss: 0.6471 - val_accuracy: 0.8258\n",
      "Epoch 4/25\n",
      "75/75 [==============================] - 0s 2ms/step - loss: 0.5955 - accuracy: 0.8643 - val_loss: 0.5823 - val_accuracy: 0.8141\n",
      "Epoch 5/25\n",
      "75/75 [==============================] - 0s 2ms/step - loss: 0.4996 - accuracy: 0.8827 - val_loss: 0.5040 - val_accuracy: 0.8442\n",
      "Epoch 6/25\n",
      "75/75 [==============================] - 0s 2ms/step - loss: 0.4027 - accuracy: 0.9041 - val_loss: 0.4379 - val_accuracy: 0.8576\n",
      "Epoch 7/25\n",
      "75/75 [==============================] - 0s 2ms/step - loss: 0.3266 - accuracy: 0.9191 - val_loss: 0.3898 - val_accuracy: 0.8727\n",
      "Epoch 8/25\n",
      "75/75 [==============================] - 0s 2ms/step - loss: 0.2704 - accuracy: 0.9338 - val_loss: 0.3597 - val_accuracy: 0.8660\n",
      "Epoch 9/25\n",
      "75/75 [==============================] - 0s 2ms/step - loss: 0.2271 - accuracy: 0.9447 - val_loss: 0.3294 - val_accuracy: 0.8844\n",
      "Epoch 10/25\n",
      "75/75 [==============================] - 0s 2ms/step - loss: 0.1949 - accuracy: 0.9501 - val_loss: 0.3127 - val_accuracy: 0.8911\n",
      "Epoch 11/25\n",
      "75/75 [==============================] - 0s 2ms/step - loss: 0.1680 - accuracy: 0.9552 - val_loss: 0.2965 - val_accuracy: 0.8961\n",
      "Epoch 12/25\n",
      "75/75 [==============================] - 0s 2ms/step - loss: 0.1485 - accuracy: 0.9615 - val_loss: 0.2893 - val_accuracy: 0.8945\n",
      "Epoch 13/25\n",
      "75/75 [==============================] - 0s 2ms/step - loss: 0.1322 - accuracy: 0.9690 - val_loss: 0.2815 - val_accuracy: 0.9028\n",
      "Epoch 14/25\n",
      "75/75 [==============================] - 0s 2ms/step - loss: 0.1174 - accuracy: 0.9744 - val_loss: 0.2790 - val_accuracy: 0.9012\n",
      "Epoch 15/25\n",
      "75/75 [==============================] - 0s 2ms/step - loss: 0.1060 - accuracy: 0.9774 - val_loss: 0.2816 - val_accuracy: 0.9045\n",
      "Epoch 16/25\n",
      "75/75 [==============================] - 0s 2ms/step - loss: 0.0954 - accuracy: 0.9791 - val_loss: 0.2774 - val_accuracy: 0.9012\n",
      "Epoch 17/25\n",
      "75/75 [==============================] - 0s 2ms/step - loss: 0.0868 - accuracy: 0.9820 - val_loss: 0.2770 - val_accuracy: 0.9146\n",
      "Epoch 18/25\n",
      "75/75 [==============================] - 0s 2ms/step - loss: 0.0803 - accuracy: 0.9841 - val_loss: 0.2720 - val_accuracy: 0.9045\n",
      "Epoch 19/25\n",
      "75/75 [==============================] - 0s 2ms/step - loss: 0.0731 - accuracy: 0.9849 - val_loss: 0.2751 - val_accuracy: 0.9028\n",
      "Epoch 20/25\n",
      "75/75 [==============================] - 0s 2ms/step - loss: 0.0672 - accuracy: 0.9845 - val_loss: 0.2703 - val_accuracy: 0.9095\n",
      "Epoch 21/25\n",
      "75/75 [==============================] - 0s 2ms/step - loss: 0.0619 - accuracy: 0.9879 - val_loss: 0.2777 - val_accuracy: 0.8978\n",
      "Epoch 22/25\n",
      "75/75 [==============================] - 0s 2ms/step - loss: 0.0582 - accuracy: 0.9891 - val_loss: 0.2807 - val_accuracy: 0.8961\n",
      "Epoch 23/25\n",
      "75/75 [==============================] - 0s 2ms/step - loss: 0.0538 - accuracy: 0.9899 - val_loss: 0.2804 - val_accuracy: 0.8961\n",
      "\n",
      "    Test Loss: 0.2803545892238617\n",
      "Test Accuracy: 0.8961474299430847\n"
     ]
    }
   ],
   "source": [
    "history = model.fit(X_train, y_train,\n",
    "                    validation_data = (X_test, y_test),\n",
    "                    epochs = num_epochs, batch_size = 32, callbacks = [early_stop])\n",
    "\n",
    "loss, accuracy = model.evaluate(X_test, y_test, verbose = False)\n",
    "\n",
    "print('\\n    Test Loss: {}\\nTest Accuracy: {}'.format(loss, accuracy))"
   ]
  },
  {
   "cell_type": "markdown",
   "id": "91090d60",
   "metadata": {},
   "source": [
    "### Layers and Parameters\n",
    "\n",
    "<p>The model includes four layers. The layer types and parameters are as follows:</p>\n",
    "\n",
    "<ol>\n",
    "    <li>Embedding:<br>Acts as the input layer. The embedding layer in this case takes 26,248 parameters.</li>\n",
    "    <li>GlobalAveragePooling1D():<br>Takes no parameters. Flattens the first layer.</li>\n",
    "    <li>Dense:<br>Takes 450 parameters. Uses the \"ReLU\" activation method.</li>\n",
    "    <li>Output:<br>The loss function was set to <em>BinaryCrossentropy</em>, which is binary. The binary pattern only requires one node.</li>\n",
    "</ol>"
   ]
  },
  {
   "cell_type": "markdown",
   "id": "ff6286f3",
   "metadata": {},
   "source": [
    "## Hyperparameters\n",
    "\n",
    "### Activation Functions\n",
    "\n",
    "<strong>Rectified Linear Activation (RELU)</strong>\n",
    "<p>The chosen activation function is ReLU. According to <em>Machine Learning Mastery</em>, ReLU is \"the default function for many neural networks\" because it is \"easier to train and often achieves better performance\" (Brownlee, 2020). ReLU was chosen for its performance and ease-of-use.</p><br>\n",
    "\n",
    "<strong>Sigmoid</strong><br>\n",
    "<p>The Sigmoid function works well on binary values. It was chosen because the rating column contains binary values of either 0 or 1.</p>\n",
    "\n",
    "### Nodes per Layer\n",
    "\n",
    "<ul>\n",
    "    <li>\n",
    "        <strong>Embedding Layer</strong>\n",
    "        <p>The embedding layer contains 57 nodes to match the maximum word length.</p><br>\n",
    "    </li>\n",
    "    <li>\n",
    "        <strong>Flatten Layer</strong>\n",
    "        <p>The flatten layer does not contain any nodes.</p><br>\n",
    "    </li>\n",
    "    <li>\n",
    "        <strong>Dense Layer</strong>\n",
    "        <p>The dense layer contains 50 nodes. Various node counts were attempted with 50 being the most accurate choice.</p><br>\n",
    "    </li>\n",
    "    <li>\n",
    "        <strong>Activation Layer</strong>\n",
    "        <p>The activation, or output layer, contains one node referring to the binary cross entropy.</p><br>\n",
    "    </li>\n",
    "</ul>\n",
    "\n",
    "### Loss Function\n",
    "\n",
    "<strong>Binary Cross Entropy</strong><br>\n",
    "Binary Cross Entropy is used for binary classification.<br>\n",
    "The ratings column contained binary values of either 0 or 1, which is why the function was selected.<br>\n",
    "\n",
    "### Optimizer\n",
    "\n",
    "<strong>Adam Optimizer</strong><br>\n",
    "The Adam Optimizer is the default choice for neural network models. According to <em>Spot Intelligence</em>, Adam has a \"faster convergence and better performance than other optimization algorithms\" and is also \"easier and more robust\" (Van Otten, 2023). Adam was chosen because of its high performance and usability. <br>\n",
    "\n",
    "### Stopping Criteria\n",
    "\n",
    "<strong>Validation Loss</strong><br>\n",
    "Validation Loss was chosen as the stopping criteria with a patience level of three. The criteria was chosen to prevent overfitting. <em>Training Validation Loss in Deep Learning</em> states that overfitting occurs when the model \"cannot generalize on new data\" and claims overfitting can be prevented by halting when the validation loss is \"low and stable\" (Baeldung, 2023). A model can sometimes increase in performance after a short trend of loss. The criteria is set to halt three epochs after an upward trend of loss to ensure the loss is stable.\n"
   ]
  },
  {
   "cell_type": "markdown",
   "id": "72651f18",
   "metadata": {},
   "source": [
    "### Evaluation Metric\n",
    "\n",
    "<strong>Accuracy</strong><br>\n",
    "The chosen evaluation metric was accuracy. The business question asks whether a model can be trained to predict the sentiment of reviews. The best way to evaluate the predictions is to base the evaluation on the prediction accuracy.<br>\n",
    "The evaluation can be seen below:"
   ]
  },
  {
   "cell_type": "code",
   "execution_count": 54,
   "id": "009929f7",
   "metadata": {},
   "outputs": [
    {
     "name": "stdout",
     "output_type": "stream",
     "text": [
      "\n",
      "    Test Loss: 0.2803545892238617\n",
      "Test Accuracy: 0.8961474299430847\n"
     ]
    }
   ],
   "source": [
    "print('\\n    Test Loss: {}\\nTest Accuracy: {}'.format(loss, accuracy))"
   ]
  },
  {
   "cell_type": "markdown",
   "id": "b0ee3c53",
   "metadata": {},
   "source": [
    "# Model Evaluation\n",
    "\n",
    "### Impact of  Stopping Criteria\n",
    "\n",
    "<p>Early Stopping is a method used to prevent overfitting. Using early stopping instead of defining the number of epochs might prevent overfitting, but it may not lead to the best performing model. To ensure the best performing model is still captured, a patience level of three was set. The model will continue with three epochs after an upward trend of loss to ensure to further gains can be made and that the loss is stable.</p>\n",
    "<p>The best training epoch can be seen in the model above at Epoch 17. The stopping criteria continued for three more epochs, making the final epoch number 20.</p>"
   ]
  },
  {
   "cell_type": "markdown",
   "id": "19e2f0e1",
   "metadata": {},
   "source": [
    "### Visualization of the Model Training Process"
   ]
  },
  {
   "cell_type": "code",
   "execution_count": 55,
   "id": "3d5bd000",
   "metadata": {
    "scrolled": false
   },
   "outputs": [
    {
     "data": {
      "image/png": "[encoded data removed]",
      "text/plain": [
       "<Figure size 1000x800 with 1 Axes>"
      ]
     },
     "metadata": {},
     "output_type": "display_data"
    }
   ],
   "source": [
    "# Line Graph of Loss\n",
    "\n",
    "pd.DataFrame(history.history).plot(figsize = (10, 8))\n",
    "plt.gca().set_ylim(0, 1)\n",
    "plt.xlabel('Number of Epochs')\n",
    "plt.legend()\n",
    "plt.title('Training v Validation Loss')\n",
    "plt.show()"
   ]
  },
  {
   "cell_type": "markdown",
   "id": "d39389e9",
   "metadata": {},
   "source": [
    "### Fitness of the Model and Measures Taken to Address Overfitting\n",
    "\n",
    "<p>The model appears to be fit and does not show signs of overfitting. <br>Validation data was used in conjunction with early stopping to prevent overfitting. The model was set to halt three epochs after an upward trend of validation loss. The measures ensure model fitness and performance.</p>\n",
    "\n",
    "### Predictive Accuracy of the Trained Network\n",
    "\n",
    "<p>The model was created to predict the sentiment of user reviews. The training data included a binary rating with 0 being a negative rating and 1 being positive. <br>\n",
    "    The predictive accuracy of the trained network can be seen below.</p>"
   ]
  },
  {
   "cell_type": "code",
   "execution_count": 56,
   "id": "8204285f",
   "metadata": {
    "scrolled": true
   },
   "outputs": [
    {
     "name": "stdout",
     "output_type": "stream",
     "text": [
      "\n",
      "    Test Loss: 28.035%\n",
      "Test Accuracy: 89.615%\n"
     ]
    }
   ],
   "source": [
    "print('\\n    Test Loss: {:.3%}\\nTest Accuracy: {:.3%}'.format(loss, accuracy))"
   ]
  },
  {
   "cell_type": "markdown",
   "id": "2314aba3",
   "metadata": {},
   "source": [
    "## Summary and Recommendations"
   ]
  },
  {
   "cell_type": "code",
   "execution_count": 57,
   "id": "e570857f",
   "metadata": {},
   "outputs": [],
   "source": [
    "model.save('D213_Task2_garyramirez.h5')"
   ]
  },
  {
   "cell_type": "markdown",
   "id": "3ff88fe0",
   "metadata": {},
   "source": [
    "### Functionality of the Neural Network and Impact of the Network Architecture\n",
    "\n",
    "<p>The model was trained with a clean data set of 2,984 user reviews. The number of sentiments were balanced with 1,495 negative and 1,489 positive after cleaning.</p>\n",
    "\n",
    "<p>Evaluation metrics suggest the model can predict review sentiments with a predictive accuracy of 89.615%.</p>\n",
    "\n",
    "<p>Recurrent Neural Network (RNN) architecture is sequential, which makes it well suited for predicting review sentiment. As explained by IBM,  RNNs \"account for the position of each word\" in a sequence. The method allows idioms such as \"feeling under the weather\" to be understood by the model (IBM, n.d.). The idiom would not have the same meaning if the words were not in that specific order, which is addressed by RNNs sequential process.</p>\n",
    "\n",
    "### Recommended Course of Action\n",
    "\n",
    "<strong>Results</strong>\n",
    "<p>The model was trained on user review data to predict the sentiment of user reviews. The model appears to have an acceptable level of predictive accuracy and performance.</p><br>\n",
    "<strong>Recommendation</strong>\n",
    "<p>Stakeholders can implement the model to predict sentiment in user reviews. The model can be used to evaluate customer feedback on products and services.<br>\n",
    "The evaluation can help guide the business in product and marketing decisions.</p>\n",
    "<p>The training data should be updated regularly to maintain accuracy.</p>"
   ]
  },
  {
   "cell_type": "markdown",
   "id": "ae32fba8",
   "metadata": {},
   "source": [
    "\n",
    "<strong>Third-party Code References</strong>\n",
    "<ul>\n",
    "    <li>Elleh, Festus. (n.d.). <em>D213 Task 2 Cohort Webinar PPT.</em> Retrieved July 2023 from my.wgu.edu.</li>\n",
    "        <li>Elleh, Festus. (2022). <em>D213 Task 2 Python Demo.</em> Retrieved July 2023 from my.wgu.edu.</li>\n",
    "    <li><em>Python DataFrame: Remove Duplicate Words in the Same Cell within a Column in Python</em>. (2018). StackOverflow.com.<br>https://stackoverflow.com/questions/47316783/python-dataframe-remove-duplicate-words-in-the-same-cell-within-a-column-in-pyt</li>\n",
    "</ul>\n",
    "\n",
    "<strong>References:</strong>\n",
    "<ul>\n",
    "    <li>Baeldung. (2023). <em>Training and Validation Loss in Deep Learning.</em> Baeldung.com.<br>\n",
    "    https://www.baeldung.com/cs/training-validation-loss-deep-learning</li>\n",
    "    <li>Brownlee, Jason. (2020). <em>A Gentle Guide to Rectified Linear Unit.</em> Machine Learning Mastery.<br>\n",
    "    https://machinelearningmastery.com/rectified-linear-activation-function-for-deep-learning-neural-networks/</li>\n",
    "    <li><em>What are Recurrent Neural Networks?</em> (n.d.). IBM.com<br>https://www.ibm.com/topics/recurrent-neural-networks</li>\n",
    "    <li>Mahto, Paritosh. (2021). <em>How to Handle Emoji & Emoticon in Text Preprocessing.</em> Geek Culture. <br>https://medium.com/geekculture/text-preprocessing-how-to-handle-emoji-emoticon-641bbfa6e9e7</li>\n",
    "    <li>Nabi, Javaid. (2019). <em>Recurrent Neural Networks (RNNS).</em> Toward Data Science.<br>\n",
    "    https://towardsdatascience.com/recurrent-neural-networks-rnns-3f06d7653a85</li>\n",
    "    <li>Van Otten, Neri. (2023). <em>Adam Optimizer Explained.</em> Spot Intelligence.<br>https://spotintelligence.com/2023/03/01/adam-optimizer/</li>\n",
    "</ul>"
   ]
  }
 ],
 "metadata": {
  "kernelspec": {
   "display_name": "Python 3 (ipykernel)",
   "language": "python",
   "name": "python3"
  },
  "language_info": {
   "codemirror_mode": {
    "name": "ipython",
    "version": 3
   },
   "file_extension": ".py",
   "mimetype": "text/x-python",
   "name": "python",
   "nbconvert_exporter": "python",
   "pygments_lexer": "ipython3",
   "version": "3.9.13"
  }
 },
 "nbformat": 4,
 "nbformat_minor": 5
}
